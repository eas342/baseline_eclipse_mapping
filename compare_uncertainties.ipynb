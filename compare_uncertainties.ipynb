{
 "cells": [
  {
   "cell_type": "markdown",
   "id": "05479d71",
   "metadata": {},
   "source": [
    "# Check Map Uncertainties between ThERESA and Spher Harmonics"
   ]
  },
  {
   "cell_type": "code",
   "execution_count": 4,
   "id": "28cee9dd",
   "metadata": {},
   "outputs": [],
   "source": [
    "import numpy as np\n",
    "import matplotlib.pyplot as plt\n",
    "from astropy.io import fits, ascii\n",
    "import astropy.constants as const\n",
    "import astropy.units as u"
   ]
  },
  {
   "cell_type": "code",
   "execution_count": 9,
   "id": "bd329dbf",
   "metadata": {},
   "outputs": [],
   "source": [
    "def planck(T,wave=4.39 * u.micron):\n",
    "    prefactor = 2. * const.h * const.c**2 / wave**5\n",
    "    exp_arg = (const.h * const.c) / (T * u.K * wave * const.k_B)\n",
    "    \n",
    "    return prefactor * 1./ ( np.exp(exp_arg) - 1.)"
   ]
  },
  {
   "cell_type": "markdown",
   "id": "1ad0b391",
   "metadata": {},
   "source": [
    "## ThERESA brightness temperature"
   ]
  },
  {
   "cell_type": "markdown",
   "id": "fe0751ba",
   "metadata": {},
   "source": [
    "In a dark region"
   ]
  },
  {
   "cell_type": "code",
   "execution_count": 18,
   "id": "db983213",
   "metadata": {},
   "outputs": [
    {
     "data": {
      "text/latex": [
       "$0.21353376 \\; \\mathrm{}$"
      ],
      "text/plain": [
       "<Quantity 0.21353376>"
      ]
     },
     "execution_count": 18,
     "metadata": {},
     "output_type": "execute_result"
    }
   ],
   "source": [
    "(planck(1000 + 60) - planck(1000) ) / planck(1000)"
   ]
  },
  {
   "cell_type": "markdown",
   "id": "6f6ef0c2",
   "metadata": {},
   "source": [
    "near the peak"
   ]
  },
  {
   "cell_type": "code",
   "execution_count": 19,
   "id": "7535a14a",
   "metadata": {},
   "outputs": [
    {
     "data": {
      "text/latex": [
       "$0.077868385 \\; \\mathrm{}$"
      ],
      "text/plain": [
       "<Quantity 0.07786839>"
      ]
     },
     "execution_count": 19,
     "metadata": {},
     "output_type": "execute_result"
    }
   ],
   "source": [
    "(planck(1450 + 15) - planck(1450) ) / planck(1000)"
   ]
  },
  {
   "cell_type": "markdown",
   "id": "d003cba4",
   "metadata": {},
   "source": [
    "## Spherical Harmonic Starry"
   ]
  },
  {
   "cell_type": "markdown",
   "id": "7f2eb548",
   "metadata": {},
   "source": [
    "Dark Region"
   ]
  },
  {
   "cell_type": "code",
   "execution_count": 20,
   "id": "b5c5f13e",
   "metadata": {},
   "outputs": [
    {
     "data": {
      "text/plain": [
       "0.48"
      ]
     },
     "execution_count": 20,
     "metadata": {},
     "output_type": "execute_result"
    }
   ],
   "source": [
    "0.12 / 0.25"
   ]
  },
  {
   "cell_type": "markdown",
   "id": "bb623c5a",
   "metadata": {},
   "source": [
    "Bright region"
   ]
  },
  {
   "cell_type": "code",
   "execution_count": 21,
   "id": "1dba526b",
   "metadata": {},
   "outputs": [
    {
     "data": {
      "text/plain": [
       "0.08"
      ]
     },
     "execution_count": 21,
     "metadata": {},
     "output_type": "execute_result"
    }
   ],
   "source": [
    "0.08 / 1.0"
   ]
  },
  {
   "cell_type": "code",
   "execution_count": null,
   "id": "30511b88",
   "metadata": {},
   "outputs": [],
   "source": []
  }
 ],
 "metadata": {
  "kernelspec": {
   "display_name": "Python 3 (ipykernel)",
   "language": "python",
   "name": "python3"
  },
  "language_info": {
   "codemirror_mode": {
    "name": "ipython",
    "version": 3
   },
   "file_extension": ".py",
   "mimetype": "text/x-python",
   "name": "python",
   "nbconvert_exporter": "python",
   "pygments_lexer": "ipython3",
   "version": "3.8.11"
  }
 },
 "nbformat": 4,
 "nbformat_minor": 5
}
