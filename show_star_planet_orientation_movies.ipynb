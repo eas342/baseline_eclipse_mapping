{
 "cells": [
  {
   "cell_type": "markdown",
   "metadata": {},
   "source": [
    "# Show Star and Planet Orientation\n",
    "\n",
    "For explaining North vs South of map"
   ]
  },
  {
   "cell_type": "code",
   "execution_count": null,
   "metadata": {},
   "outputs": [],
   "source": [
    "import matplotlib.pyplot as plt\n",
    "import numpy as np\n",
    "import starry\n",
    "from copy import deepcopy\n",
    "import astropy.units as u\n",
    "import astropy.constants as const\n",
    "from astropy.table import Table\n",
    "from astropy.io import fits, ascii\n",
    "from corner import corner\n",
    "import os\n",
    "import hotspot_fitter\n",
    "\n",
    "starry.config.lazy = False\n",
    "starry.config.quiet = True"
   ]
  },
  {
   "cell_type": "code",
   "execution_count": null,
   "metadata": {},
   "outputs": [],
   "source": [
    "starry.__version__"
   ]
  },
  {
   "cell_type": "markdown",
   "metadata": {},
   "source": [
    "## Set up Forward Model"
   ]
  },
  {
   "cell_type": "markdown",
   "metadata": {},
   "source": [
    "Use Earth map as an example map"
   ]
  },
  {
   "cell_type": "code",
   "execution_count": null,
   "metadata": {},
   "outputs": [],
   "source": [
    "max_ell = 3\n",
    "\n",
    "up_bin = 10 ## up-bin for clarity\n",
    "lc_precision = 145e-6 / np.sqrt(up_bin) ## measured from broadband F444W precision\n",
    "cadence = 2.72486 * up_bin ## between exposures\n",
    "npoints = int(np.round(0.2 * 24. * 3600.  / (cadence))) ## duration/cadence\n",
    "extra_descrip = '_hd189733_f444w'\n",
    "\n",
    "map1 = starry.Map(max_ell)\n",
    "\n",
    "map1.load(\"earth\", sigma=0.05)\n",
    "y_input = deepcopy(map1.y[1:])\n",
    "map1.show(projection=\"rect\")"
   ]
  },
  {
   "cell_type": "code",
   "execution_count": null,
   "metadata": {},
   "outputs": [],
   "source": [
    "modelDat = ascii.read('sim_data/hd189733b_spec_model_binned.csv')\n",
    "modelDat[1]['depth']"
   ]
  },
  {
   "cell_type": "code",
   "execution_count": null,
   "metadata": {},
   "outputs": [],
   "source": [
    "M_star = 0.812 ## Addison et al. 2019, solar masses\n",
    "R_star = 0.765 ## Addison et al. 2019, solar radii\n",
    "inc=85.69 ## Addison et al. 2019\n",
    "#inc=90.0\n",
    "rp = 0.1504 * R_star ## Addison et al. 2019, Solar radii\n",
    "P_b = 2.218577 ## days\n",
    "log_amp = np.log10(modelDat[1]['depth'])\n",
    "t0 = 0.0\n",
    "\n",
    "M_planet = (1.166 * u.Mjup).to(u.Msun).value ## Addison et al. 2019, Solar masses\n",
    "\n",
    "prot_star = 1.0\n",
    "\n",
    "x = np.linspace(0.5 * P_b - 0.1,0.5 * P_b + 0.1,npoints)\n",
    "#x = np.linspace(0.,P_b,4096)\n"
   ]
  },
  {
   "cell_type": "markdown",
   "metadata": {},
   "source": [
    "Save the brightness temperature for comparison with ThERESA results"
   ]
  },
  {
   "cell_type": "markdown",
   "metadata": {},
   "source": [
    "Get the impact parameter"
   ]
  },
  {
   "cell_type": "code",
   "execution_count": null,
   "metadata": {},
   "outputs": [],
   "source": [
    "norb = 2. * np.pi / (P_b * u.day)\n",
    "a_orb = (const.G * (M_star * u.Msun) / norb**2)**(1./3.)\n",
    "a_over_r_star = (a_orb/(R_star * u.Rsun)).si\n",
    "b_impact = a_over_r_star * np.cos(inc * np.pi/180.)\n",
    "b_impact"
   ]
  },
  {
   "cell_type": "code",
   "execution_count": null,
   "metadata": {},
   "outputs": [],
   "source": [
    "a_orb.to(u.AU)"
   ]
  },
  {
   "cell_type": "code",
   "execution_count": null,
   "metadata": {},
   "outputs": [],
   "source": [
    "arg = np.sqrt((1. + rp/R_star)**2 - b_impact**2)/ (a_over_r_star * np.sin(inc * np.pi/180.))\n",
    "Tdur_14 = (P_b / np.pi) * np.arcsin(arg)\n",
    "Thalf_14 = (0.5 * Tdur_14).value\n",
    "\n",
    "arg2 = np.sqrt((1. - rp/R_star)**2 - b_impact**2)/ (a_over_r_star * np.sin(inc * np.pi/180.))\n",
    "Tdur_23 = (P_b / np.pi) * np.arcsin(arg2)\n",
    "Thalf_23 = (0.5 * Tdur_23).value\n",
    "Thalf_14,Thalf_23"
   ]
  },
  {
   "cell_type": "code",
   "execution_count": null,
   "metadata": {},
   "outputs": [],
   "source": [
    "A = starry.Primary(starry.Map(ydeg=0, udeg=2, amp=1.0), m=M_star, r=R_star,\n",
    "                   prot=prot_star )\n",
    "b = starry.kepler.Secondary(map1,\n",
    "                            m=M_planet,r=rp,prot=P_b,porb=P_b,t0=t0,inc=inc)\n",
    "b.map.amp = 10**log_amp"
   ]
  },
  {
   "cell_type": "code",
   "execution_count": null,
   "metadata": {},
   "outputs": [],
   "source": [
    "b.theta0 = 180.0 + 0.0\n",
    "sys = starry.System(A,b)"
   ]
  },
  {
   "cell_type": "code",
   "execution_count": null,
   "metadata": {},
   "outputs": [],
   "source": [
    "#os.mkdir('plots/movies')"
   ]
  },
  {
   "cell_type": "code",
   "execution_count": null,
   "metadata": {},
   "outputs": [],
   "source": [
    "sys.show(t=np.linspace(0.5 * P_b - 1.3 * Thalf_14,0.5 * P_b + 1.3 * Thalf_14,64),figsize=(8,8),\n",
    "        file='plots/movies/eclipse_forward_model.mov')\n"
   ]
  },
  {
   "cell_type": "code",
   "execution_count": null,
   "metadata": {},
   "outputs": [],
   "source": [
    "sys.show(t=np.linspace(0 * P_b - 1.3 * Thalf_14,0 * P_b + 1.3 * Thalf_14,64),figsize=(8,8),\n",
    "        file='plots/movies/transit_forward_model.mov')\n",
    "\n"
   ]
  },
  {
   "cell_type": "code",
   "execution_count": null,
   "metadata": {},
   "outputs": [],
   "source": []
  }
 ],
 "metadata": {
  "kernelspec": {
   "display_name": "Python 3 (ipykernel)",
   "language": "python",
   "name": "python3"
  },
  "language_info": {
   "codemirror_mode": {
    "name": "ipython",
    "version": 3
   },
   "file_extension": ".py",
   "mimetype": "text/x-python",
   "name": "python",
   "nbconvert_exporter": "python",
   "pygments_lexer": "ipython3",
   "version": "3.7.11"
  }
 },
 "nbformat": 4,
 "nbformat_minor": 4
}
