{
 "cells": [
  {
   "cell_type": "markdown",
   "metadata": {},
   "source": [
    "# Plot Pixel Transforms and Lightcurves\n",
    "## And look for errors or fringing\n"
   ]
  },
  {
   "cell_type": "code",
   "execution_count": null,
   "metadata": {},
   "outputs": [],
   "source": [
    "import matplotlib.pyplot as plt\n",
    "import matplotlib\n",
    "import numpy as np\n",
    "import starry\n",
    "from copy import deepcopy\n",
    "import astropy.units as u\n",
    "import astropy.constants as const\n",
    "from astropy.table import Table\n",
    "from astropy.io import fits, ascii\n",
    "from corner import corner\n",
    "import os\n",
    "import hotspot_fitter\n",
    "import warnings\n",
    "import pymc3 as pm\n",
    "\n",
    "starry.config.lazy = False\n",
    "starry.config.quiet = True\n",
    "\n",
    "import theano.tensor as tt\n",
    "import pymc3_ext as pmx"
   ]
  },
  {
   "cell_type": "markdown",
   "metadata": {},
   "source": [
    "Run this in a newer starry so that you can get pixel transforms"
   ]
  },
  {
   "cell_type": "code",
   "execution_count": null,
   "metadata": {},
   "outputs": [],
   "source": [
    "assert (starry.__version__ >= \"1.2\")"
   ]
  },
  {
   "cell_type": "markdown",
   "metadata": {},
   "source": [
    "## Set up Forward Model"
   ]
  },
  {
   "cell_type": "markdown",
   "metadata": {},
   "source": [
    "Read in the original map"
   ]
  },
  {
   "cell_type": "code",
   "execution_count": null,
   "metadata": {},
   "outputs": [],
   "source": [
    "t_orig = ascii.read('sim_data/y_original.csv')\n",
    "y_orig = np.array(t_orig['y'])"
   ]
  },
  {
   "cell_type": "code",
   "execution_count": null,
   "metadata": {},
   "outputs": [],
   "source": [
    "#map1 = starry.Map(4)\n",
    "map1 = starry.Map(3)\n",
    "\n",
    "#map1.load(\"sim_data/earth.jpg\", sigma=0.05)\n",
    "map1[1:,:] = y_orig[1:]\n",
    "map1.amp = 10**-3\n",
    "y_input = deepcopy(map1.y[1:])\n",
    "\n",
    "fig, ax = plt.subplots()\n",
    "map1.show(projection=\"rect\",colorbar=True,ax=ax)\n",
    "#fig.savefig('plots/forward_model/forward_map_rect.png',dpi=150,bbox_inches='tight')\n",
    "\n"
   ]
  },
  {
   "cell_type": "code",
   "execution_count": null,
   "metadata": {},
   "outputs": [],
   "source": [
    "fig, ax = plt.subplots()\n",
    "map1.show(projection='ortho',ax=ax,colorbar=True)"
   ]
  },
  {
   "cell_type": "markdown",
   "metadata": {},
   "source": [
    "# Pixel Sampling"
   ]
  },
  {
   "cell_type": "markdown",
   "metadata": {},
   "source": [
    "Find the pixel transforms"
   ]
  },
  {
   "cell_type": "markdown",
   "metadata": {},
   "source": [
    "Check if we can get the lightcurve from the design matrix"
   ]
  },
  {
   "cell_type": "code",
   "execution_count": null,
   "metadata": {},
   "outputs": [],
   "source": [
    "lat_t, lon_t, Y2P, P2Y, Dx, Dy = map1.get_pixel_transforms(oversample=2)\n",
    "npix = lat_t.shape[0]"
   ]
  },
  {
   "cell_type": "code",
   "execution_count": null,
   "metadata": {},
   "outputs": [],
   "source": [
    "# plt.plot(x,sys.flux(x))\n",
    "# f_from_matrix = X_inf.dot(y_orig)* 10**log_amp + 1.\n",
    "# plt.plot(x,f_from_matrix)"
   ]
  },
  {
   "cell_type": "markdown",
   "metadata": {},
   "source": [
    "## How do the transforms from individual pixels look?"
   ]
  },
  {
   "cell_type": "code",
   "execution_count": null,
   "metadata": {},
   "outputs": [],
   "source": [
    "def plot_pixels(pixels):\n",
    "    cm = plt.cm.get_cmap('plasma')\n",
    "    plt.scatter(lon_t, lat_t,c=pixels,cmap=cm,marker='s',s=500)\n",
    "    plt.xlabel(\"Longitude (deg)\")\n",
    "    plt.ylabel(\"Latitude (deg)\")\n",
    "\n",
    "def plot_pixels_and_sph_harmonic_map(pixelInd=6,returnY=False):\n",
    "    p_test = np.zeros(npix)\n",
    "    p_test[pixelInd] = 0.999 * map1.amp\n",
    "    \n",
    "    plot_pixels(p_test)\n",
    "\n",
    "\n",
    "    ytest = np.dot(P2Y,p_test)\n",
    "    map2 = map1 #deepcopy(map1)\n",
    "    map2.amp = 10**-3\n",
    "    planetY = ytest[1:] / map1.amp\n",
    "    map2[1:, :] = planetY\n",
    "\n",
    "    map2.show(projection=\"rectangular\")\n",
    "    \n",
    "    if returnY == True:\n",
    "        return deepcopy(planetY)"
   ]
  },
  {
   "cell_type": "code",
   "execution_count": null,
   "metadata": {},
   "outputs": [],
   "source": [
    "y_mid_s = plot_pixels_and_sph_harmonic_map(pixelInd=6,returnY=True)"
   ]
  },
  {
   "cell_type": "code",
   "execution_count": null,
   "metadata": {},
   "outputs": [],
   "source": [
    "y_eq = plot_pixels_and_sph_harmonic_map(pixelInd=14,returnY=True)"
   ]
  },
  {
   "cell_type": "markdown",
   "metadata": {},
   "source": [
    "Single pixels transformed to spherical harmonic coefficients don't seem so bad (Jacob and I were a little worried about ringing and errors in the transform)"
   ]
  },
  {
   "cell_type": "markdown",
   "metadata": {},
   "source": [
    "## How does the Inverse Transform of the original forward map look?"
   ]
  },
  {
   "cell_type": "markdown",
   "metadata": {},
   "source": [
    "Original forward map"
   ]
  },
  {
   "cell_type": "code",
   "execution_count": null,
   "metadata": {},
   "outputs": [],
   "source": [
    "map1[1:,:] = y_orig[1:]\n",
    "fig, ax = plt.subplots()\n",
    "map1.show(projection=\"rect\",colorbar=True,ax=ax)\n",
    "#fig.savefig('plots/forward_model/forward_map_rect.png',dpi=150,bbox_inches='tight')\n"
   ]
  },
  {
   "cell_type": "code",
   "execution_count": null,
   "metadata": {},
   "outputs": [],
   "source": [
    "y_input_full = np.append(1,y_input)\n",
    "px_input = np.dot(Y2P,y_input_full)"
   ]
  },
  {
   "cell_type": "code",
   "execution_count": null,
   "metadata": {},
   "outputs": [],
   "source": [
    "plot_pixels(px_input)"
   ]
  },
  {
   "cell_type": "markdown",
   "metadata": {},
   "source": [
    "## Diffent Exploration: How much do the poles matter?\n",
    "Megan and I were wondering whether the poles are intrinsically hard because they don't affect the lightcurve much?"
   ]
  },
  {
   "cell_type": "markdown",
   "metadata": {},
   "source": [
    "### First, plot the pixel at the pole"
   ]
  },
  {
   "cell_type": "code",
   "execution_count": null,
   "metadata": {},
   "outputs": [],
   "source": [
    "y_s_pole = plot_pixels_and_sph_harmonic_map(pixelInd=0,returnY=True)\n"
   ]
  },
  {
   "cell_type": "markdown",
   "metadata": {},
   "source": [
    "With pixel sampling, one pixel covers the whole pole it seems"
   ]
  },
  {
   "cell_type": "code",
   "execution_count": null,
   "metadata": {},
   "outputs": [],
   "source": [
    "y_n_pole = plot_pixels_and_sph_harmonic_map(pixelInd=29,returnY=True)\n",
    "\n"
   ]
  },
  {
   "cell_type": "code",
   "execution_count": null,
   "metadata": {},
   "outputs": [],
   "source": [
    "def make_system(planetY):\n",
    "    up_bin = 10 ## up-bin for clarity\n",
    "    lc_precision = 145e-6 / np.sqrt(up_bin) ## measured from broadband F444W precision\n",
    "    cadence = 2.72486 * up_bin ## between exposures\n",
    "    npoints = int(np.round(0.2 * 24. * 3600.  / (cadence))) ## duration/cadence\n",
    "\n",
    "    modelDat = ascii.read('sim_data/hd189733b_spec_model_binned.csv')\n",
    "    modelDat[1]['depth']\n",
    "\n",
    "    M_star = 0.812 ## Addison et al. 2019, solar masses\n",
    "    R_star = 0.765 ## Addison et al. 2019, solar radii\n",
    "    inc=85.69 ## Addison et al. 2019\n",
    "    #inc=90.0\n",
    "    rp = 0.1504 * R_star ## Addison et al. 2019, Solar radii\n",
    "    P_b = 2.218577 ## days\n",
    "    log_amp = np.log10(modelDat[1]['depth'])\n",
    "    t0 = 0.0\n",
    "\n",
    "    M_planet = (1.166 * u.Mjup).to(u.Msun).value ## Addison et al. 2019, Solar masses\n",
    "\n",
    "    prot_star = 1.0\n",
    "\n",
    "    x = np.linspace(0.5 * P_b - 0.1,0.5 * P_b + 0.1,npoints)\n",
    "    #x = np.linspace(0.,P_b,4096)\n",
    "\n",
    "    A = starry.Primary(starry.Map(ydeg=0, udeg=2, amp=1.0), m=M_star, r=R_star,\n",
    "                       prot=prot_star )\n",
    "    planetMap = starry.Map(3)\n",
    "    planetMap[1:,:] = planetY\n",
    "    b = starry.kepler.Secondary(planetMap,\n",
    "                                m=M_planet,r=rp,prot=P_b,porb=P_b,t0=t0,inc=inc)\n",
    "    b.map.amp = 10**log_amp\n",
    "\n",
    "\n",
    "    b.theta0 = 180.0 + 0.0\n",
    "    sys = starry.System(A,b)\n",
    "    \n",
    "    return x,sys"
   ]
  },
  {
   "cell_type": "code",
   "execution_count": null,
   "metadata": {},
   "outputs": [],
   "source": [
    "x, sys_s_pole = make_system(y_s_pole)\n",
    "x, sys_n_pole = make_system(y_n_pole)\n",
    "x, sys_eq = make_system(y_eq)\n",
    "x, sys_mid = make_system(y_mid_s)\n",
    "\n"
   ]
  },
  {
   "cell_type": "code",
   "execution_count": null,
   "metadata": {},
   "outputs": [],
   "source": [
    "plt.plot(x,sys_s_pole.flux(x),label='S Pole')\n",
    "plt.plot(x,sys_n_pole.flux(x),label='N Pole')\n",
    "plt.plot(x,sys_eq.flux(x),label='Equator')\n",
    "plt.plot(x,sys_mid.flux(x),label='S Mid-latitude')\n",
    "plt.legend()\n",
    "plt.xlabel(\"Time (days)\")\n",
    "plt.ylabel(\"Flux\")\n",
    "plt.savefig('plots/pix_samp_lc/lc_of_example_pixels.pdf')"
   ]
  },
  {
   "cell_type": "code",
   "execution_count": null,
   "metadata": {},
   "outputs": [],
   "source": [
    "sys_n_pole.show(t=np.linspace(1.0,1.2,40),figsize=(12,12))"
   ]
  },
  {
   "cell_type": "code",
   "execution_count": null,
   "metadata": {},
   "outputs": [],
   "source": [
    "sys_s_pole.show(t=np.linspace(1.0,1.2,40),figsize=(12,12))"
   ]
  },
  {
   "cell_type": "code",
   "execution_count": null,
   "metadata": {},
   "outputs": [],
   "source": []
  }
 ],
 "metadata": {
  "kernelspec": {
   "display_name": "Python 3 (ipykernel)",
   "language": "python",
   "name": "python3"
  },
  "language_info": {
   "codemirror_mode": {
    "name": "ipython",
    "version": 3
   },
   "file_extension": ".py",
   "mimetype": "text/x-python",
   "name": "python",
   "nbconvert_exporter": "python",
   "pygments_lexer": "ipython3",
   "version": "3.7.11"
  }
 },
 "nbformat": 4,
 "nbformat_minor": 4
}
